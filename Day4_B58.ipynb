{
 "cells": [
  {
   "cell_type": "code",
   "execution_count": null,
   "id": "26cc1510",
   "metadata": {},
   "outputs": [],
   "source": [
    "introduction to list datatype"
   ]
  },
  {
   "cell_type": "code",
   "execution_count": null,
   "id": "5e88cdc2",
   "metadata": {},
   "outputs": [],
   "source": [
    "Def: A list of collection of items declared in a particular order\n",
    "Classification: mutable (can edit)    "
   ]
  },
  {
   "cell_type": "code",
   "execution_count": null,
   "id": "92051ecd",
   "metadata": {},
   "outputs": [],
   "source": []
  },
  {
   "cell_type": "code",
   "execution_count": null,
   "id": "1bab9fb5",
   "metadata": {},
   "outputs": [],
   "source": [
    "students = ['anjali','vihaan','rivaan','asha','rakesh']"
   ]
  },
  {
   "cell_type": "code",
   "execution_count": 1,
   "id": "fbbc6a40",
   "metadata": {},
   "outputs": [
    {
     "ename": "NameError",
     "evalue": "name 'students' is not defined",
     "output_type": "error",
     "traceback": [
      "\u001b[1;31m---------------------------------------------------------------------------\u001b[0m",
      "\u001b[1;31mNameError\u001b[0m                                 Traceback (most recent call last)",
      "\u001b[1;32m~\\AppData\\Local\\Temp/ipykernel_1448/933520084.py\u001b[0m in \u001b[0;36m<module>\u001b[1;34m\u001b[0m\n\u001b[1;32m----> 1\u001b[1;33m \u001b[0mprint\u001b[0m\u001b[1;33m(\u001b[0m\u001b[0mstudents\u001b[0m\u001b[1;33m)\u001b[0m\u001b[1;33m\u001b[0m\u001b[1;33m\u001b[0m\u001b[0m\n\u001b[0m",
      "\u001b[1;31mNameError\u001b[0m: name 'students' is not defined"
     ]
    }
   ],
   "source": [
    "print(students)"
   ]
  },
  {
   "cell_type": "code",
   "execution_count": 2,
   "id": "3df59f09",
   "metadata": {},
   "outputs": [
    {
     "name": "stdout",
     "output_type": "stream",
     "text": [
      "['anjali', 'vihaan', 'rivaan', 'asha', 'rakesh']\n"
     ]
    }
   ],
   "source": [
    "students = ['anjali','vihaan','rivaan','asha','rakesh']\n",
    "print(students)"
   ]
  },
  {
   "cell_type": "code",
   "execution_count": null,
   "id": "12139dfb",
   "metadata": {},
   "outputs": [],
   "source": []
  },
  {
   "cell_type": "code",
   "execution_count": 3,
   "id": "fa683c66",
   "metadata": {},
   "outputs": [
    {
     "data": {
      "text/plain": [
       "list"
      ]
     },
     "execution_count": 3,
     "metadata": {},
     "output_type": "execute_result"
    }
   ],
   "source": [
    "type(students)"
   ]
  },
  {
   "cell_type": "code",
   "execution_count": null,
   "id": "d4380ce8",
   "metadata": {},
   "outputs": [],
   "source": []
  },
  {
   "cell_type": "code",
   "execution_count": null,
   "id": "52d5a7b6",
   "metadata": {},
   "outputs": [],
   "source": [
    "introduction to indexing: 0,1,2,3,4..."
   ]
  },
  {
   "cell_type": "code",
   "execution_count": 4,
   "id": "30e3c506",
   "metadata": {},
   "outputs": [
    {
     "name": "stdout",
     "output_type": "stream",
     "text": [
      "vihaan\n"
     ]
    }
   ],
   "source": [
    "print((students[1])) # to access vihaan name from the above list"
   ]
  },
  {
   "cell_type": "code",
   "execution_count": 5,
   "id": "581a04dc",
   "metadata": {},
   "outputs": [
    {
     "name": "stdout",
     "output_type": "stream",
     "text": [
      "asha\n"
     ]
    }
   ],
   "source": [
    "print(students[3]) # to access asha name from the above list"
   ]
  },
  {
   "cell_type": "code",
   "execution_count": null,
   "id": "c6bcc7bd",
   "metadata": {},
   "outputs": [],
   "source": []
  },
  {
   "cell_type": "code",
   "execution_count": 6,
   "id": "fd4b2328",
   "metadata": {},
   "outputs": [
    {
     "name": "stdout",
     "output_type": "stream",
     "text": [
      "['anjali', 'vihaan', 'rivaan', 'asha', 'rakesh', 'amrut']\n"
     ]
    }
   ],
   "source": [
    "students.append('amrut')    #append = name gets added to above list in the last position\n",
    "print(students)"
   ]
  },
  {
   "cell_type": "code",
   "execution_count": null,
   "id": "1e6899f0",
   "metadata": {},
   "outputs": [],
   "source": []
  },
  {
   "cell_type": "code",
   "execution_count": 7,
   "id": "58577efe",
   "metadata": {},
   "outputs": [
    {
     "name": "stdout",
     "output_type": "stream",
     "text": [
      "['anjali', 'laxman', 'vihaan', 'rivaan', 'asha', 'rakesh', 'amrut']\n"
     ]
    }
   ],
   "source": [
    "students.insert(1,'laxman')    #insert =  to insert laxman in the first index position\n",
    "print(students)"
   ]
  },
  {
   "cell_type": "code",
   "execution_count": null,
   "id": "d5a8ad18",
   "metadata": {},
   "outputs": [],
   "source": []
  },
  {
   "cell_type": "code",
   "execution_count": null,
   "id": "79f967f5",
   "metadata": {},
   "outputs": [],
   "source": [
    "to modify name: rivaan name to sayli"
   ]
  },
  {
   "cell_type": "code",
   "execution_count": 8,
   "id": "b3701f3a",
   "metadata": {},
   "outputs": [
    {
     "name": "stdout",
     "output_type": "stream",
     "text": [
      "['anjali', 'laxman', 'vihaan', 'sayli', 'asha', 'rakesh', 'amrut']\n"
     ]
    }
   ],
   "source": [
    "students[3] = 'sayli'\n",
    "print(students)"
   ]
  },
  {
   "cell_type": "code",
   "execution_count": null,
   "id": "b434924a",
   "metadata": {},
   "outputs": [],
   "source": []
  },
  {
   "cell_type": "code",
   "execution_count": null,
   "id": "9da9a9ce",
   "metadata": {},
   "outputs": [],
   "source": [
    "#del = to permanently delete something from the above list"
   ]
  },
  {
   "cell_type": "code",
   "execution_count": 9,
   "id": "328a092e",
   "metadata": {},
   "outputs": [
    {
     "name": "stdout",
     "output_type": "stream",
     "text": [
      "['anjali', 'laxman', 'sayli', 'asha', 'rakesh', 'amrut']\n"
     ]
    }
   ],
   "source": [
    "del students[2]  # del the name of the index no 2 \n",
    "print(students)"
   ]
  },
  {
   "cell_type": "code",
   "execution_count": null,
   "id": "59165a19",
   "metadata": {},
   "outputs": [],
   "source": []
  },
  {
   "cell_type": "code",
   "execution_count": null,
   "id": "204bf81d",
   "metadata": {},
   "outputs": [],
   "source": [
    "# temporary deletion\n",
    "\n",
    "pop = used to delete things teporarily =  carbon copy of the deleted items and stores in a variable assigned to it\n",
    "\n",
    "by default it will be deleting ht last element in the list"
   ]
  },
  {
   "cell_type": "code",
   "execution_count": null,
   "id": "18ccf158",
   "metadata": {},
   "outputs": [],
   "source": []
  },
  {
   "cell_type": "code",
   "execution_count": 10,
   "id": "5f52a6c4",
   "metadata": {},
   "outputs": [
    {
     "name": "stdout",
     "output_type": "stream",
     "text": [
      "['anjali', 'laxman', 'sayli', 'asha', 'rakesh']\n"
     ]
    }
   ],
   "source": [
    "a = students.pop()   # 'a' is a variable\n",
    "print(students)"
   ]
  },
  {
   "cell_type": "code",
   "execution_count": 11,
   "id": "8a2be708",
   "metadata": {},
   "outputs": [
    {
     "name": "stdout",
     "output_type": "stream",
     "text": [
      "amrut\n"
     ]
    }
   ],
   "source": [
    "print(a)"
   ]
  },
  {
   "cell_type": "code",
   "execution_count": null,
   "id": "c7deba88",
   "metadata": {},
   "outputs": [],
   "source": []
  },
  {
   "cell_type": "code",
   "execution_count": null,
   "id": "df65bbad",
   "metadata": {},
   "outputs": [],
   "source": []
  },
  {
   "cell_type": "code",
   "execution_count": null,
   "id": "42ff2162",
   "metadata": {},
   "outputs": [],
   "source": []
  }
 ],
 "metadata": {
  "kernelspec": {
   "display_name": "Python 3 (ipykernel)",
   "language": "python",
   "name": "python3"
  },
  "language_info": {
   "codemirror_mode": {
    "name": "ipython",
    "version": 3
   },
   "file_extension": ".py",
   "mimetype": "text/x-python",
   "name": "python",
   "nbconvert_exporter": "python",
   "pygments_lexer": "ipython3",
   "version": "3.9.7"
  }
 },
 "nbformat": 4,
 "nbformat_minor": 5
}
