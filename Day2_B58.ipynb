{
 "cells": [
  {
   "cell_type": "code",
   "execution_count": null,
   "id": "4dd31bdc",
   "metadata": {},
   "outputs": [],
   "source": [
    "Variables in Python"
   ]
  },
  {
   "cell_type": "code",
   "execution_count": 1,
   "id": "97b57e11",
   "metadata": {},
   "outputs": [
    {
     "ename": "SyntaxError",
     "evalue": "invalid syntax (Temp/ipykernel_11772/420080754.py, line 1)",
     "output_type": "error",
     "traceback": [
      "\u001b[1;36m  File \u001b[1;32m\"C:\\Users\\Admin\\AppData\\Local\\Temp/ipykernel_11772/420080754.py\"\u001b[1;36m, line \u001b[1;32m1\u001b[0m\n\u001b[1;33m    Rule No 1- A variable name should not contain any namespace\u001b[0m\n\u001b[1;37m         ^\u001b[0m\n\u001b[1;31mSyntaxError\u001b[0m\u001b[1;31m:\u001b[0m invalid syntax\n"
     ]
    }
   ],
   "source": [
    "Rule No 1- A variable name should not contain any namespace"
   ]
  },
  {
   "cell_type": "code",
   "execution_count": 3,
   "id": "2e72ff20",
   "metadata": {},
   "outputs": [
    {
     "name": "stdout",
     "output_type": "stream",
     "text": [
      "Anjali\n"
     ]
    }
   ],
   "source": [
    "firstName = 'Anjali'\n",
    "print (firstName)"
   ]
  },
  {
   "cell_type": "code",
   "execution_count": null,
   "id": "4fff2399",
   "metadata": {},
   "outputs": [],
   "source": [
    "Rule No 2- A variable name should not start with a number"
   ]
  },
  {
   "cell_type": "code",
   "execution_count": 4,
   "id": "be38e938",
   "metadata": {},
   "outputs": [
    {
     "ename": "SyntaxError",
     "evalue": "invalid syntax (Temp/ipykernel_11772/4206326320.py, line 1)",
     "output_type": "error",
     "traceback": [
      "\u001b[1;36m  File \u001b[1;32m\"C:\\Users\\Admin\\AppData\\Local\\Temp/ipykernel_11772/4206326320.py\"\u001b[1;36m, line \u001b[1;32m1\u001b[0m\n\u001b[1;33m    1name = 'Anjali'\u001b[0m\n\u001b[1;37m     ^\u001b[0m\n\u001b[1;31mSyntaxError\u001b[0m\u001b[1;31m:\u001b[0m invalid syntax\n"
     ]
    }
   ],
   "source": [
    "1name = 'Anjali'"
   ]
  },
  {
   "cell_type": "code",
   "execution_count": 6,
   "id": "b2cd83c3",
   "metadata": {},
   "outputs": [
    {
     "name": "stdout",
     "output_type": "stream",
     "text": [
      "Anjali\n"
     ]
    }
   ],
   "source": [
    "name1 = 'Anjali'\n",
    "print (name1)"
   ]
  },
  {
   "cell_type": "code",
   "execution_count": null,
   "id": "c8cf1d58",
   "metadata": {},
   "outputs": [],
   "source": [
    "Rule No 3 - A variable name should not contain any special character"
   ]
  },
  {
   "cell_type": "code",
   "execution_count": 7,
   "id": "567b7f30",
   "metadata": {},
   "outputs": [
    {
     "ename": "SyntaxError",
     "evalue": "invalid syntax (Temp/ipykernel_11772/598091897.py, line 2)",
     "output_type": "error",
     "traceback": [
      "\u001b[1;36m  File \u001b[1;32m\"C:\\Users\\Admin\\AppData\\Local\\Temp/ipykernel_11772/598091897.py\"\u001b[1;36m, line \u001b[1;32m2\u001b[0m\n\u001b[1;33m    print (@name#)\u001b[0m\n\u001b[1;37m    ^\u001b[0m\n\u001b[1;31mSyntaxError\u001b[0m\u001b[1;31m:\u001b[0m invalid syntax\n"
     ]
    }
   ],
   "source": [
    "@name# = 'Anjali'\n",
    "print (@name#)"
   ]
  },
  {
   "cell_type": "code",
   "execution_count": 8,
   "id": "d7ffb82b",
   "metadata": {},
   "outputs": [
    {
     "name": "stdout",
     "output_type": "stream",
     "text": [
      "Anjali\n"
     ]
    }
   ],
   "source": [
    "name = 'Anjali'\n",
    "print (name)"
   ]
  },
  {
   "cell_type": "code",
   "execution_count": null,
   "id": "0fcbb784",
   "metadata": {},
   "outputs": [],
   "source": []
  },
  {
   "cell_type": "code",
   "execution_count": null,
   "id": "195e9f90",
   "metadata": {},
   "outputs": [],
   "source": [
    "Datatypes in Python"
   ]
  },
  {
   "cell_type": "code",
   "execution_count": null,
   "id": "9a7d021a",
   "metadata": {},
   "outputs": [],
   "source": [
    "1. string = str\n",
    "2. numbers = integers(int) and float(decimals)\n",
    "3. list = list\n",
    "4. tuple = tuple\n",
    "5. dictionaries = dict"
   ]
  },
  {
   "cell_type": "code",
   "execution_count": null,
   "id": "6ef18856",
   "metadata": {},
   "outputs": [],
   "source": []
  },
  {
   "cell_type": "code",
   "execution_count": null,
   "id": "af7c343a",
   "metadata": {},
   "outputs": [],
   "source": [
    "Classification of Datatypes\n",
    "1. mutable datatypes -  which we can edit or alter - flexible\n",
    "2. imutable datatypes - which we cannot edit or alter - fixed"
   ]
  },
  {
   "cell_type": "code",
   "execution_count": null,
   "id": "61e9aa6b",
   "metadata": {},
   "outputs": [],
   "source": []
  },
  {
   "cell_type": "code",
   "execution_count": null,
   "id": "cd5f0b40",
   "metadata": {},
   "outputs": [],
   "source": [
    "Introduction to string datatype\n",
    "\n",
    "  Definition - A string is series of characters declared in quotes.\n",
    " \n",
    "  Classification - It is classified as an immutable datatype (fixed datatype)\n",
    "\n",
    "  3 possible options for declaring the string\n",
    "1. single quote\n",
    "2. double quote\n",
    "3. triple quote"
   ]
  },
  {
   "cell_type": "code",
   "execution_count": 9,
   "id": "00837c40",
   "metadata": {},
   "outputs": [
    {
     "name": "stdout",
     "output_type": "stream",
     "text": [
      "Anjali\n"
     ]
    }
   ],
   "source": [
    "name ='Anjali'\n",
    "print (name)"
   ]
  },
  {
   "cell_type": "code",
   "execution_count": 10,
   "id": "a9c6cde5",
   "metadata": {},
   "outputs": [
    {
     "name": "stdout",
     "output_type": "stream",
     "text": [
      "Anjali\n"
     ]
    }
   ],
   "source": [
    "name2 = \"Anjali\"\n",
    "print (name2)"
   ]
  },
  {
   "cell_type": "code",
   "execution_count": 11,
   "id": "dcf8657d",
   "metadata": {},
   "outputs": [
    {
     "name": "stdout",
     "output_type": "stream",
     "text": [
      "Anjali\n"
     ]
    }
   ],
   "source": [
    "name3 = '''Anjali''' # triple quotes \n",
    "print (name3)"
   ]
  },
  {
   "cell_type": "code",
   "execution_count": null,
   "id": "0533b8be",
   "metadata": {},
   "outputs": [],
   "source": [
    "# is used for commenting the code"
   ]
  },
  {
   "cell_type": "code",
   "execution_count": null,
   "id": "83c235d1",
   "metadata": {},
   "outputs": [],
   "source": []
  },
  {
   "cell_type": "code",
   "execution_count": null,
   "id": "17a14c08",
   "metadata": {},
   "outputs": [],
   "source": [
    "Introduction to string methods"
   ]
  },
  {
   "cell_type": "code",
   "execution_count": 12,
   "id": "63ce6698",
   "metadata": {},
   "outputs": [
    {
     "data": {
      "text/plain": [
       "str"
      ]
     },
     "execution_count": 12,
     "metadata": {},
     "output_type": "execute_result"
    }
   ],
   "source": [
    "type(name)"
   ]
  },
  {
   "cell_type": "code",
   "execution_count": 13,
   "id": "fda5c58e",
   "metadata": {},
   "outputs": [
    {
     "data": {
      "text/plain": [
       "str"
      ]
     },
     "execution_count": 13,
     "metadata": {},
     "output_type": "execute_result"
    }
   ],
   "source": [
    "type (name2)"
   ]
  },
  {
   "cell_type": "code",
   "execution_count": 14,
   "id": "2f9c6765",
   "metadata": {},
   "outputs": [
    {
     "data": {
      "text/plain": [
       "str"
      ]
     },
     "execution_count": 14,
     "metadata": {},
     "output_type": "execute_result"
    }
   ],
   "source": [
    "type(name3)"
   ]
  },
  {
   "cell_type": "code",
   "execution_count": null,
   "id": "5a9aa199",
   "metadata": {},
   "outputs": [],
   "source": []
  }
 ],
 "metadata": {
  "kernelspec": {
   "display_name": "Python 3 (ipykernel)",
   "language": "python",
   "name": "python3"
  },
  "language_info": {
   "codemirror_mode": {
    "name": "ipython",
    "version": 3
   },
   "file_extension": ".py",
   "mimetype": "text/x-python",
   "name": "python",
   "nbconvert_exporter": "python",
   "pygments_lexer": "ipython3",
   "version": "3.9.7"
  }
 },
 "nbformat": 4,
 "nbformat_minor": 5
}
