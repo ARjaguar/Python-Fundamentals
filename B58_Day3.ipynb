{
 "cells": [
  {
   "cell_type": "code",
   "execution_count": null,
   "id": "282665f6",
   "metadata": {},
   "outputs": [],
   "source": [
    "continuation with strings"
   ]
  },
  {
   "cell_type": "code",
   "execution_count": 1,
   "id": "f140503f",
   "metadata": {},
   "outputs": [
    {
     "name": "stdout",
     "output_type": "stream",
     "text": [
      "anjali pujari\n"
     ]
    }
   ],
   "source": [
    "full_name = 'anjali pujari'\n",
    "print (full_name)"
   ]
  },
  {
   "cell_type": "code",
   "execution_count": 2,
   "id": "91f7d543",
   "metadata": {},
   "outputs": [
    {
     "name": "stdout",
     "output_type": "stream",
     "text": [
      "Anjali Pujari\n"
     ]
    }
   ],
   "source": [
    "print (full_name.title())  # title = for first letter to be capital"
   ]
  },
  {
   "cell_type": "code",
   "execution_count": 3,
   "id": "4b9916d5",
   "metadata": {},
   "outputs": [
    {
     "name": "stdout",
     "output_type": "stream",
     "text": [
      "ANJALI PUJARI\n"
     ]
    }
   ],
   "source": [
    "print (full_name.upper())  # upper = for capital letters"
   ]
  },
  {
   "cell_type": "code",
   "execution_count": 4,
   "id": "7523b5bc",
   "metadata": {},
   "outputs": [
    {
     "name": "stdout",
     "output_type": "stream",
     "text": [
      "anjali pujari\n"
     ]
    }
   ],
   "source": [
    "print (full_name.lower()) # lower = for small letters"
   ]
  },
  {
   "cell_type": "code",
   "execution_count": null,
   "id": "bc4da467",
   "metadata": {},
   "outputs": [],
   "source": []
  },
  {
   "cell_type": "code",
   "execution_count": null,
   "id": "7085c25f",
   "metadata": {},
   "outputs": [],
   "source": [
    "introduction to f string"
   ]
  },
  {
   "cell_type": "code",
   "execution_count": null,
   "id": "cf347798",
   "metadata": {},
   "outputs": [],
   "source": [
    "first_name = 'anjali'\n",
    "last_name = 'pujari'"
   ]
  },
  {
   "cell_type": "code",
   "execution_count": 15,
   "id": "618b7843",
   "metadata": {},
   "outputs": [
    {
     "name": "stdout",
     "output_type": "stream",
     "text": [
      "anjali pujari\n"
     ]
    }
   ],
   "source": [
    "full_name = f\"{first_name} {last_name}\"\n",
    "print(full_name) "
   ]
  },
  {
   "cell_type": "code",
   "execution_count": null,
   "id": "6549c112",
   "metadata": {},
   "outputs": [],
   "source": []
  },
  {
   "cell_type": "code",
   "execution_count": 12,
   "id": "03d8a590",
   "metadata": {},
   "outputs": [
    {
     "name": "stdout",
     "output_type": "stream",
     "text": [
      "Congratulations, anjali pujari\n"
     ]
    }
   ],
   "source": [
    "message = f\"Congratulations, {full_name}\"\n",
    "print(message)"
   ]
  },
  {
   "cell_type": "code",
   "execution_count": 13,
   "id": "b1eda282",
   "metadata": {},
   "outputs": [
    {
     "name": "stdout",
     "output_type": "stream",
     "text": [
      "Congratulations, Anjali Pujari\n"
     ]
    }
   ],
   "source": [
    "message = f\"Congratulations, {full_name.title()}\"\n",
    "print(message)"
   ]
  },
  {
   "cell_type": "code",
   "execution_count": null,
   "id": "4ebdb4e7",
   "metadata": {},
   "outputs": [],
   "source": []
  },
  {
   "cell_type": "code",
   "execution_count": null,
   "id": "dbe08c2c",
   "metadata": {},
   "outputs": [],
   "source": [
    "Adding whitespace to strings"
   ]
  },
  {
   "cell_type": "code",
   "execution_count": null,
   "id": "f21a360a",
   "metadata": {},
   "outputs": [],
   "source": []
  },
  {
   "cell_type": "code",
   "execution_count": 16,
   "id": "a18f5958",
   "metadata": {},
   "outputs": [
    {
     "name": "stdout",
     "output_type": "stream",
     "text": [
      "favourite_fruits:applegrapesmangoorangeguava\n"
     ]
    }
   ],
   "source": [
    "print(\"favourite_fruits:applegrapesmangoorangeguava\")"
   ]
  },
  {
   "cell_type": "code",
   "execution_count": 17,
   "id": "476d6083",
   "metadata": {},
   "outputs": [
    {
     "name": "stdout",
     "output_type": "stream",
     "text": [
      "favourite_fruits:\n",
      "apple\n",
      "grapes\n",
      "mango\n",
      "orange\n",
      "guava\n"
     ]
    }
   ],
   "source": [
    "print(\"favourite_fruits:\\napple\\ngrapes\\nmango\\norange\\nguava\")   #\\n = new line delimiter"
   ]
  },
  {
   "cell_type": "code",
   "execution_count": null,
   "id": "59893b7a",
   "metadata": {},
   "outputs": [],
   "source": []
  },
  {
   "cell_type": "code",
   "execution_count": 18,
   "id": "19a5a489",
   "metadata": {},
   "outputs": [
    {
     "name": "stdout",
     "output_type": "stream",
     "text": [
      "favourite_fruits:\n",
      "\tapple\n",
      "\tgrapes\n",
      "\tmango\n",
      "\torange\n",
      "\tguava\n"
     ]
    }
   ],
   "source": [
    "print(\"favourite_fruits:\\n\\tapple\\n\\tgrapes\\n\\tmango\\n\\torange\\n\\tguava\") #\\t = tab delimiter"
   ]
  },
  {
   "cell_type": "code",
   "execution_count": null,
   "id": "8301d8bf",
   "metadata": {},
   "outputs": [],
   "source": []
  },
  {
   "cell_type": "code",
   "execution_count": null,
   "id": "c140ce1e",
   "metadata": {},
   "outputs": [],
   "source": [
    "Removing whitespaces from strimgs"
   ]
  },
  {
   "cell_type": "code",
   "execution_count": null,
   "id": "7ed70363",
   "metadata": {},
   "outputs": [],
   "source": []
  },
  {
   "cell_type": "code",
   "execution_count": 20,
   "id": "04343bd5",
   "metadata": {},
   "outputs": [
    {
     "name": "stdout",
     "output_type": "stream",
     "text": [
      "apple\n"
     ]
    }
   ],
   "source": [
    "name = 'apple'\n",
    "print(name)"
   ]
  },
  {
   "cell_type": "code",
   "execution_count": 21,
   "id": "6296768d",
   "metadata": {},
   "outputs": [
    {
     "name": "stdout",
     "output_type": "stream",
     "text": [
      "   grapes\n"
     ]
    }
   ],
   "source": [
    "name2 = '   grapes'\n",
    "print(name2)"
   ]
  },
  {
   "cell_type": "markdown",
   "id": "48bbd285",
   "metadata": {},
   "source": []
  },
  {
   "cell_type": "code",
   "execution_count": 22,
   "id": "75b5712c",
   "metadata": {},
   "outputs": [
    {
     "name": "stdout",
     "output_type": "stream",
     "text": [
      "mango   \n"
     ]
    }
   ],
   "source": [
    "name3 = 'mango   '\n",
    "print (name3)"
   ]
  },
  {
   "cell_type": "code",
   "execution_count": 23,
   "id": "a4201efc",
   "metadata": {},
   "outputs": [
    {
     "data": {
      "text/plain": [
       "'grapes'"
      ]
     },
     "execution_count": 23,
     "metadata": {},
     "output_type": "execute_result"
    }
   ],
   "source": [
    "name2.lstrip()"
   ]
  },
  {
   "cell_type": "code",
   "execution_count": 24,
   "id": "c7bbf250",
   "metadata": {},
   "outputs": [
    {
     "data": {
      "text/plain": [
       "'mango'"
      ]
     },
     "execution_count": 24,
     "metadata": {},
     "output_type": "execute_result"
    }
   ],
   "source": [
    "name3.rstrip()"
   ]
  },
  {
   "cell_type": "code",
   "execution_count": null,
   "id": "63c879b2",
   "metadata": {},
   "outputs": [],
   "source": []
  },
  {
   "cell_type": "code",
   "execution_count": null,
   "id": "cab29fc3",
   "metadata": {},
   "outputs": [],
   "source": []
  }
 ],
 "metadata": {
  "kernelspec": {
   "display_name": "Python 3 (ipykernel)",
   "language": "python",
   "name": "python3"
  },
  "language_info": {
   "codemirror_mode": {
    "name": "ipython",
    "version": 3
   },
   "file_extension": ".py",
   "mimetype": "text/x-python",
   "name": "python",
   "nbconvert_exporter": "python",
   "pygments_lexer": "ipython3",
   "version": "3.9.7"
  }
 },
 "nbformat": 4,
 "nbformat_minor": 5
}
